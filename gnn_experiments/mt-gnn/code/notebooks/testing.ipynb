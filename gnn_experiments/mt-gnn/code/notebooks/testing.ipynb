{
 "cells": [
  {
   "cell_type": "code",
   "execution_count": null,
   "metadata": {},
   "outputs": [],
   "source": [
    "sdate = date(2020, 2, 24)\n",
    "edate = date(2020, 5, 12)\n",
    "delta = edate - sdate\n",
    "dates = [sdate + timedelta(days=i) for i in range(delta.days+1)]\n",
    "dates = [str(date) for date in dates]\n",
    "    "
   ]
  }
 ],
 "metadata": {
  "interpreter": {
   "hash": "e4e8bbf49c2826237aecb2049a58e864e33fb35ade36e5fbcf68f86259424290"
  },
  "kernelspec": {
   "display_name": "Python 3.8.12 64-bit ('pytorch_m1': conda)",
   "language": "python",
   "name": "python3"
  },
  "language_info": {
   "name": "python",
   "version": "3.8.12"
  },
  "orig_nbformat": 4
 },
 "nbformat": 4,
 "nbformat_minor": 2
}
