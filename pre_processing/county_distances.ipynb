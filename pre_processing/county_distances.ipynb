{
 "cells": [
  {
   "cell_type": "code",
   "execution_count": 31,
   "metadata": {},
   "outputs": [],
   "source": [
    "from shapely.geometry import shape\n",
    "import json\n",
    "import pandas as pd"
   ]
  },
  {
   "cell_type": "code",
   "execution_count": 5,
   "metadata": {},
   "outputs": [],
   "source": [
    "with open('landkreise.geojson') as f:\n",
    "  data = json.load(f)"
   ]
  },
  {
   "cell_type": "code",
   "execution_count": 38,
   "metadata": {},
   "outputs": [],
   "source": [
    "# Calculate distance between counties\n",
    "def extract_center(feature):\n",
    "    x, y = shape(feature[\"geometry\"]).centroid.xy\n",
    "    return {\n",
    "        \"lk_id\": int(feature[\"properties\"][\"RS\"]),\n",
    "        \"centroid_long\": y[0],\n",
    "        \"centroid_lat\": x[0]\n",
    "    }"
   ]
  },
  {
   "cell_type": "code",
   "execution_count": 39,
   "metadata": {},
   "outputs": [],
   "source": [
    "features = data[\"features\"]\n",
    "output_data = pd.DataFrame(list(map(extract_center, features)))"
   ]
  },
  {
   "cell_type": "code",
   "execution_count": 42,
   "metadata": {},
   "outputs": [],
   "source": [
    "output_data.to_csv(\"county_centroids.csv\", index=False)"
   ]
  }
 ],
 "metadata": {
  "interpreter": {
   "hash": "ecc8feb358c765a595a4fd31c750fe7829b92f054fcdc338cbb0cf5b366cba04"
  },
  "kernelspec": {
   "display_name": "Python 3.9.7 64-bit ('masterthesis': conda)",
   "name": "python3"
  },
  "language_info": {
   "codemirror_mode": {
    "name": "ipython",
    "version": 3
   },
   "file_extension": ".py",
   "mimetype": "text/x-python",
   "name": "python",
   "nbconvert_exporter": "python",
   "pygments_lexer": "ipython3",
   "version": "3.9.7"
  },
  "orig_nbformat": 4
 },
 "nbformat": 4,
 "nbformat_minor": 2
}
