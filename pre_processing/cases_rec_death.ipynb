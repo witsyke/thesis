{
 "cells": [
  {
   "cell_type": "code",
   "execution_count": 1,
   "metadata": {},
   "outputs": [],
   "source": [
    "import pandas as pd\n",
    "from os import listdir\n",
    "from os.path import isfile, join"
   ]
  },
  {
   "cell_type": "code",
   "execution_count": 3,
   "metadata": {},
   "outputs": [],
   "source": [
    "mypath = \"<<PATH TO RKI CASE ARCHIVE>>\"\n",
    "onlyfiles = [f for f in listdir(mypath) if isfile(join(mypath, f))]"
   ]
  },
  {
   "cell_type": "code",
   "execution_count": 20,
   "metadata": {},
   "outputs": [
    {
     "data": {
      "text/plain": [
       "'2021-11-29_Deutschland_SarsCov2_Infektionen.csv'"
      ]
     },
     "execution_count": 20,
     "metadata": {},
     "output_type": "execute_result"
    }
   ],
   "source": [
    "onlyfiles[-2]"
   ]
  },
  {
   "cell_type": "code",
   "execution_count": 16,
   "metadata": {},
   "outputs": [],
   "source": [
    "def get_df(filename):\n",
    "        df = (pd.read_csv(join(mypath, filename))\n",
    "            .groupby('IdLandkreis').agg({\"Meldedatum\": \"max\", \"AnzahlFall\": \"sum\", \"AnzahlTodesfall\": \"sum\", \"AnzahlGenesen\": \"sum\"})\n",
    "            .reset_index())\n",
    "        df[\"Meldedatum\"] = df.Meldedatum.max()\n",
    "        return df"
   ]
  },
  {
   "cell_type": "code",
   "execution_count": 2,
   "metadata": {},
   "outputs": [],
   "source": [
    "import multiprocess as mp\n"
   ]
  },
  {
   "cell_type": "code",
   "execution_count": 17,
   "metadata": {},
   "outputs": [],
   "source": [
    "if __name__ == '__main__':\n",
    "    with mp.Pool(6) as p:\n",
    "        result = p.map(get_df, onlyfiles)\n",
    "    pd.concat(result).to_csv(\"data/cases_rec_death3.csv\", index=False)   \n",
    "\n",
    "\n",
    "\n",
    "\n",
    "# frames.append(pd.read_csv(\"data/SARS-CoV-2_Infektionen_in_Deutschland/Archiv/2021-04-02_Deutschland_SarsCov2_Infektionen.csv\")\n",
    "#     .groupby('IdLandkreis').agg({\"Meldedatum\": \"max\", \"AnzahlFall\": \"sum\", \"AnzahlTodesfall\": \"sum\", \"AnzahlGenesen\": \"sum\"})\n",
    "#     .reset_index())\n",
    "\n",
    "\n"
   ]
  },
  {
   "cell_type": "code",
   "execution_count": 7,
   "metadata": {},
   "outputs": [],
   "source": [
    "test = pd.read_csv(\"<<PATH TO LATEST RKI CASE FILE>>\")\n",
    "test.Refdatum = pd.to_datetime(test.Refdatum)\n",
    "test.Meldedatum = pd.to_datetime(test.Meldedatum)\n",
    "\n",
    "\n",
    "dates = test.Meldedatum.unique()\n",
    "# dates = pd.to_datetime(dates)\n",
    "dates = pd.to_datetime([\"2020-09-08\"])\n",
    "\n",
    "def get_cases(date):\n",
    "    temp = test.loc[(test.Refdatum <= date) & (test.Refdatum >= date - pd.to_timedelta(14, unit='d'))]\n",
    "    print(temp)\n",
    "    # temp = temp.groupby('IdLandkreis').agg({\"AnzahlFall\": \"sum\"}).reset_index()\n",
    "    # temp = test.loc[(test.Refdatum <= date)].groupby('IdLandkreis').agg({\"AnzahlFall\": \"sum\"}).reset_index()\n",
    "    temp[\"date\"] = date\n",
    "    return temp\n",
    "\n"
   ]
  },
  {
   "cell_type": "code",
   "execution_count": 5,
   "metadata": {},
   "outputs": [
    {
     "name": "stdout",
     "output_type": "stream",
     "text": [
      "2020-09-08 00:00:00\n"
     ]
    }
   ],
   "source": [
    "print(dates)"
   ]
  },
  {
   "cell_type": "code",
   "execution_count": 3,
   "metadata": {},
   "outputs": [
    {
     "data": {
      "text/html": [
       "<div>\n",
       "<style scoped>\n",
       "    .dataframe tbody tr th:only-of-type {\n",
       "        vertical-align: middle;\n",
       "    }\n",
       "\n",
       "    .dataframe tbody tr th {\n",
       "        vertical-align: top;\n",
       "    }\n",
       "\n",
       "    .dataframe thead th {\n",
       "        text-align: right;\n",
       "    }\n",
       "</style>\n",
       "<table border=\"1\" class=\"dataframe\">\n",
       "  <thead>\n",
       "    <tr style=\"text-align: right;\">\n",
       "      <th></th>\n",
       "      <th>IdLandkreis</th>\n",
       "      <th>Altersgruppe</th>\n",
       "      <th>Geschlecht</th>\n",
       "      <th>Meldedatum</th>\n",
       "      <th>Refdatum</th>\n",
       "      <th>IstErkrankungsbeginn</th>\n",
       "      <th>NeuerFall</th>\n",
       "      <th>NeuerTodesfall</th>\n",
       "      <th>NeuGenesen</th>\n",
       "      <th>AnzahlFall</th>\n",
       "      <th>AnzahlTodesfall</th>\n",
       "      <th>AnzahlGenesen</th>\n",
       "    </tr>\n",
       "  </thead>\n",
       "  <tbody>\n",
       "    <tr>\n",
       "      <th>0</th>\n",
       "      <td>1001</td>\n",
       "      <td>A15-A34</td>\n",
       "      <td>M</td>\n",
       "      <td>2020-10-28</td>\n",
       "      <td>2020-01-19</td>\n",
       "      <td>1</td>\n",
       "      <td>0</td>\n",
       "      <td>-9</td>\n",
       "      <td>0</td>\n",
       "      <td>1</td>\n",
       "      <td>0</td>\n",
       "      <td>1</td>\n",
       "    </tr>\n",
       "    <tr>\n",
       "      <th>1</th>\n",
       "      <td>1001</td>\n",
       "      <td>A15-A34</td>\n",
       "      <td>M</td>\n",
       "      <td>2020-03-21</td>\n",
       "      <td>2020-03-13</td>\n",
       "      <td>1</td>\n",
       "      <td>0</td>\n",
       "      <td>-9</td>\n",
       "      <td>0</td>\n",
       "      <td>1</td>\n",
       "      <td>0</td>\n",
       "      <td>1</td>\n",
       "    </tr>\n",
       "    <tr>\n",
       "      <th>2</th>\n",
       "      <td>1001</td>\n",
       "      <td>A15-A34</td>\n",
       "      <td>M</td>\n",
       "      <td>2020-03-19</td>\n",
       "      <td>2020-03-13</td>\n",
       "      <td>1</td>\n",
       "      <td>0</td>\n",
       "      <td>-9</td>\n",
       "      <td>0</td>\n",
       "      <td>1</td>\n",
       "      <td>0</td>\n",
       "      <td>1</td>\n",
       "    </tr>\n",
       "    <tr>\n",
       "      <th>3</th>\n",
       "      <td>1001</td>\n",
       "      <td>A15-A34</td>\n",
       "      <td>M</td>\n",
       "      <td>2020-03-19</td>\n",
       "      <td>2020-03-16</td>\n",
       "      <td>1</td>\n",
       "      <td>0</td>\n",
       "      <td>-9</td>\n",
       "      <td>0</td>\n",
       "      <td>1</td>\n",
       "      <td>0</td>\n",
       "      <td>1</td>\n",
       "    </tr>\n",
       "    <tr>\n",
       "      <th>4</th>\n",
       "      <td>1001</td>\n",
       "      <td>A35-A59</td>\n",
       "      <td>M</td>\n",
       "      <td>2020-03-14</td>\n",
       "      <td>2020-03-16</td>\n",
       "      <td>1</td>\n",
       "      <td>0</td>\n",
       "      <td>-9</td>\n",
       "      <td>0</td>\n",
       "      <td>1</td>\n",
       "      <td>0</td>\n",
       "      <td>1</td>\n",
       "    </tr>\n",
       "    <tr>\n",
       "      <th>...</th>\n",
       "      <td>...</td>\n",
       "      <td>...</td>\n",
       "      <td>...</td>\n",
       "      <td>...</td>\n",
       "      <td>...</td>\n",
       "      <td>...</td>\n",
       "      <td>...</td>\n",
       "      <td>...</td>\n",
       "      <td>...</td>\n",
       "      <td>...</td>\n",
       "      <td>...</td>\n",
       "      <td>...</td>\n",
       "    </tr>\n",
       "    <tr>\n",
       "      <th>3174557</th>\n",
       "      <td>16077</td>\n",
       "      <td>A00-A04</td>\n",
       "      <td>W</td>\n",
       "      <td>2021-12-11</td>\n",
       "      <td>2021-12-11</td>\n",
       "      <td>0</td>\n",
       "      <td>1</td>\n",
       "      <td>-9</td>\n",
       "      <td>-9</td>\n",
       "      <td>1</td>\n",
       "      <td>0</td>\n",
       "      <td>0</td>\n",
       "    </tr>\n",
       "    <tr>\n",
       "      <th>3174558</th>\n",
       "      <td>16077</td>\n",
       "      <td>A35-A59</td>\n",
       "      <td>W</td>\n",
       "      <td>2021-12-11</td>\n",
       "      <td>2021-12-11</td>\n",
       "      <td>0</td>\n",
       "      <td>1</td>\n",
       "      <td>-9</td>\n",
       "      <td>-9</td>\n",
       "      <td>18</td>\n",
       "      <td>0</td>\n",
       "      <td>0</td>\n",
       "    </tr>\n",
       "    <tr>\n",
       "      <th>3174559</th>\n",
       "      <td>16077</td>\n",
       "      <td>unbekannt</td>\n",
       "      <td>W</td>\n",
       "      <td>2021-12-11</td>\n",
       "      <td>2021-12-11</td>\n",
       "      <td>0</td>\n",
       "      <td>1</td>\n",
       "      <td>-9</td>\n",
       "      <td>-9</td>\n",
       "      <td>1</td>\n",
       "      <td>0</td>\n",
       "      <td>0</td>\n",
       "    </tr>\n",
       "    <tr>\n",
       "      <th>3174560</th>\n",
       "      <td>16077</td>\n",
       "      <td>A15-A34</td>\n",
       "      <td>W</td>\n",
       "      <td>2021-12-12</td>\n",
       "      <td>2021-12-12</td>\n",
       "      <td>0</td>\n",
       "      <td>1</td>\n",
       "      <td>-9</td>\n",
       "      <td>-9</td>\n",
       "      <td>1</td>\n",
       "      <td>0</td>\n",
       "      <td>0</td>\n",
       "    </tr>\n",
       "    <tr>\n",
       "      <th>3174561</th>\n",
       "      <td>16077</td>\n",
       "      <td>A35-A59</td>\n",
       "      <td>W</td>\n",
       "      <td>2021-12-12</td>\n",
       "      <td>2021-12-12</td>\n",
       "      <td>0</td>\n",
       "      <td>1</td>\n",
       "      <td>-9</td>\n",
       "      <td>-9</td>\n",
       "      <td>1</td>\n",
       "      <td>0</td>\n",
       "      <td>0</td>\n",
       "    </tr>\n",
       "  </tbody>\n",
       "</table>\n",
       "<p>3174562 rows × 12 columns</p>\n",
       "</div>"
      ],
      "text/plain": [
       "         IdLandkreis Altersgruppe Geschlecht  Meldedatum   Refdatum  \\\n",
       "0               1001      A15-A34          M  2020-10-28 2020-01-19   \n",
       "1               1001      A15-A34          M  2020-03-21 2020-03-13   \n",
       "2               1001      A15-A34          M  2020-03-19 2020-03-13   \n",
       "3               1001      A15-A34          M  2020-03-19 2020-03-16   \n",
       "4               1001      A35-A59          M  2020-03-14 2020-03-16   \n",
       "...              ...          ...        ...         ...        ...   \n",
       "3174557        16077      A00-A04          W  2021-12-11 2021-12-11   \n",
       "3174558        16077      A35-A59          W  2021-12-11 2021-12-11   \n",
       "3174559        16077    unbekannt          W  2021-12-11 2021-12-11   \n",
       "3174560        16077      A15-A34          W  2021-12-12 2021-12-12   \n",
       "3174561        16077      A35-A59          W  2021-12-12 2021-12-12   \n",
       "\n",
       "         IstErkrankungsbeginn  NeuerFall  NeuerTodesfall  NeuGenesen  \\\n",
       "0                           1          0              -9           0   \n",
       "1                           1          0              -9           0   \n",
       "2                           1          0              -9           0   \n",
       "3                           1          0              -9           0   \n",
       "4                           1          0              -9           0   \n",
       "...                       ...        ...             ...         ...   \n",
       "3174557                     0          1              -9          -9   \n",
       "3174558                     0          1              -9          -9   \n",
       "3174559                     0          1              -9          -9   \n",
       "3174560                     0          1              -9          -9   \n",
       "3174561                     0          1              -9          -9   \n",
       "\n",
       "         AnzahlFall  AnzahlTodesfall  AnzahlGenesen  \n",
       "0                 1                0              1  \n",
       "1                 1                0              1  \n",
       "2                 1                0              1  \n",
       "3                 1                0              1  \n",
       "4                 1                0              1  \n",
       "...             ...              ...            ...  \n",
       "3174557           1                0              0  \n",
       "3174558          18                0              0  \n",
       "3174559           1                0              0  \n",
       "3174560           1                0              0  \n",
       "3174561           1                0              0  \n",
       "\n",
       "[3174562 rows x 12 columns]"
      ]
     },
     "execution_count": 3,
     "metadata": {},
     "output_type": "execute_result"
    }
   ],
   "source": []
  },
  {
   "cell_type": "code",
   "execution_count": null,
   "metadata": {},
   "outputs": [],
   "source": [
    "if __name__ == '__main__':\n",
    "    with mp.Pool(6) as p:\n",
    "        result = p.map(get_cases, dates)\n",
    "    pd.concat(result).to_csv(\"data/test.csv\", index=False)  "
   ]
  },
  {
   "cell_type": "code",
   "execution_count": 11,
   "metadata": {},
   "outputs": [],
   "source": [
    "# Extract active cases with uniform 14-day recovery time\n",
    "test = pd.read_csv(\"<<PATH TO LASTEST RKI CASE FILE>>\")\n",
    "test.Refdatum = pd.to_datetime(test.Refdatum)\n",
    "test.Meldedatum = pd.to_datetime(test.Meldedatum)\n",
    "\n",
    "\n",
    "dates = test.Meldedatum.unique()\n",
    "dates = pd.date_range(dates.min(),dates.max(),freq='d')\n",
    "\n",
    "# dates = pd.to_datetime([\"2020-03-25\"])\n",
    "\n",
    "def get_recovered(date):\n",
    "    temp = test.loc[(test.Refdatum <= date - pd.to_timedelta(14, unit='d'))].groupby('IdLandkreis').agg({\"AnzahlFall\": \"sum\"}).reset_index()\n",
    "    temp[\"date\"] = date\n",
    "    return temp"
   ]
  },
  {
   "cell_type": "code",
   "execution_count": 16,
   "metadata": {},
   "outputs": [
    {
     "data": {
      "text/plain": [
       "DatetimeIndex(['2020-01-02', '2020-01-03', '2020-01-04', '2020-01-05',\n",
       "               '2020-01-06', '2020-01-07', '2020-01-08', '2020-01-09',\n",
       "               '2020-01-10', '2020-01-11',\n",
       "               ...\n",
       "               '2021-12-03', '2021-12-04', '2021-12-05', '2021-12-06',\n",
       "               '2021-12-07', '2021-12-08', '2021-12-09', '2021-12-10',\n",
       "               '2021-12-11', '2021-12-12'],\n",
       "              dtype='datetime64[ns]', length=711, freq='D')"
      ]
     },
     "execution_count": 16,
     "metadata": {},
     "output_type": "execute_result"
    }
   ],
   "source": [
    "\n"
   ]
  },
  {
   "cell_type": "code",
   "execution_count": 12,
   "metadata": {},
   "outputs": [],
   "source": [
    "if __name__ == '__main__':\n",
    "    with mp.Pool(6) as p:\n",
    "        result = p.map(get_recovered, dates)\n",
    "    pd.concat(result).to_csv(\"data/recovered.csv\", index=False)  "
   ]
  },
  {
   "cell_type": "code",
   "execution_count": null,
   "metadata": {},
   "outputs": [],
   "source": [
    "# NEW CSES\n",
    "\n",
    "test = pd.read_csv(\"<<PATH TO LASTEST RKI CASE FILE>>\")\n",
    "test.Refdatum = pd.to_datetime(test.Refdatum)\n",
    "test.Meldedatum = pd.to_datetime(test.Meldedatum)\n",
    "\n",
    "\n",
    "dates = test.Meldedatum.unique()\n",
    "dates = pd.date_range(dates.min(),dates.max(),freq='d')\n",
    "\n",
    "# dates = pd.to_datetime([\"2020-03-25\"])\n",
    "\n",
    "def get_recovered(date):\n",
    "    temp = test.loc[(test.Refdatum == date)].groupby('IdLandkreis').agg({\"AnzahlFall\": \"sum\"}).reset_index()\n",
    "    temp[\"date\"] = date\n",
    "    return temp"
   ]
  },
  {
   "cell_type": "code",
   "execution_count": null,
   "metadata": {},
   "outputs": [],
   "source": [
    "if __name__ == '__main__':\n",
    "    with mp.Pool(6) as p:\n",
    "        result = p.map(get_recovered, dates)\n",
    "    pd.concat(result).to_csv(\"data/new_cases.csv\", index=False) "
   ]
  }
 ],
 "metadata": {
  "interpreter": {
   "hash": "ecc8feb358c765a595a4fd31c750fe7829b92f054fcdc338cbb0cf5b366cba04"
  },
  "kernelspec": {
   "display_name": "Python 3.9.7 64-bit ('masterthesis': conda)",
   "language": "python",
   "name": "python3"
  },
  "language_info": {
   "codemirror_mode": {
    "name": "ipython",
    "version": 3
   },
   "file_extension": ".py",
   "mimetype": "text/x-python",
   "name": "python",
   "nbconvert_exporter": "python",
   "pygments_lexer": "ipython3",
   "version": "3.9.7"
  },
  "orig_nbformat": 4
 },
 "nbformat": 4,
 "nbformat_minor": 2
}
